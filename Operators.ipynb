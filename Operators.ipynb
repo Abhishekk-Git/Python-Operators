{
 "cells": [
  {
   "cell_type": "markdown",
   "id": "44aebcfe",
   "metadata": {},
   "source": [
    "# Operators in Python"
   ]
  },
  {
   "cell_type": "markdown",
   "id": "7517cc2c",
   "metadata": {},
   "source": [
    "## There are 7 types of operators in python\n",
    "1. Arithmetic Operators\n",
    "2. Assignment Operataors\n",
    "3. Comparison Operators\n",
    "4. Bitwise Operators\n",
    "5. Logical Operators\n",
    "6. Membership Operators\n",
    "7. identity Operators"
   ]
  },
  {
   "cell_type": "markdown",
   "id": "aa358d20",
   "metadata": {},
   "source": [
    "## 1. Arithmetic Operators\n",
    " There are 7 types of __arithmetic operators.__\n",
    " - Addition\n",
    " - Subtraction\n",
    " - Multiplication\n",
    " - Division\n",
    " - Modulo\n",
    " - Floor Division\n",
    " - Exponential or Power"
   ]
  },
  {
   "cell_type": "markdown",
   "id": "9e2ab83b",
   "metadata": {},
   "source": [
    "#### 1.1 Addition\n",
    "This operator add two or more numbers. It is represented by + symbol."
   ]
  },
  {
   "cell_type": "code",
   "execution_count": 2,
   "id": "3dd9bcf7",
   "metadata": {},
   "outputs": [
    {
     "data": {
      "text/plain": [
       "7"
      ]
     },
     "execution_count": 2,
     "metadata": {},
     "output_type": "execute_result"
    }
   ],
   "source": [
    "2 + 5   \n",
    "# Here the numbers 2 and 5 are called as operands and + is called operators. Since both the numbers have same positive sign\n",
    "# that is why the sign of the final sum is positive."
   ]
  },
  {
   "cell_type": "code",
   "execution_count": 3,
   "id": "b22f5a20",
   "metadata": {},
   "outputs": [
    {
     "data": {
      "text/plain": [
       "3"
      ]
     },
     "execution_count": 3,
     "metadata": {},
     "output_type": "execute_result"
    }
   ],
   "source": [
    "-5 + 8    #----> Here the greater number is 8 whose sign is positive that is why the sign of the final sum is positive."
   ]
  },
  {
   "cell_type": "code",
   "execution_count": 4,
   "id": "9d170dda",
   "metadata": {},
   "outputs": [
    {
     "data": {
      "text/plain": [
       "-15"
      ]
     },
     "execution_count": 4,
     "metadata": {},
     "output_type": "execute_result"
    }
   ],
   "source": [
    "-8 + (-7)   #----> Here both the numbers have same negative sign that is why the sign of the final sum is negative."
   ]
  },
  {
   "cell_type": "code",
   "execution_count": 216,
   "id": "5ed20767",
   "metadata": {},
   "outputs": [
    {
     "data": {
      "text/plain": [
       "7.5"
      ]
     },
     "execution_count": 216,
     "metadata": {},
     "output_type": "execute_result"
    }
   ],
   "source": [
    "5 + 2.5     #----> Here the sum of integer and float always gives a float value."
   ]
  },
  {
   "cell_type": "code",
   "execution_count": 6,
   "id": "e779a47c",
   "metadata": {},
   "outputs": [
    {
     "data": {
      "text/plain": [
       "8.1"
      ]
     },
     "execution_count": 6,
     "metadata": {},
     "output_type": "execute_result"
    }
   ],
   "source": [
    "5.6 + 2.5        #Float addition"
   ]
  },
  {
   "cell_type": "code",
   "execution_count": 63,
   "id": "f5d06242",
   "metadata": {},
   "outputs": [
    {
     "data": {
      "text/plain": [
       "6.6"
      ]
     },
     "execution_count": 63,
     "metadata": {},
     "output_type": "execute_result"
    }
   ],
   "source": [
    "8.2 + (-1.6)      #Float addition"
   ]
  },
  {
   "cell_type": "code",
   "execution_count": 75,
   "id": "dee96f71",
   "metadata": {},
   "outputs": [
    {
     "data": {
      "text/plain": [
       "34"
      ]
     },
     "execution_count": 75,
     "metadata": {},
     "output_type": "execute_result"
    }
   ],
   "source": [
    "5 + 6 + 8 + 15        #Integer addition with more than 2 numbers"
   ]
  },
  {
   "cell_type": "code",
   "execution_count": 74,
   "id": "0ce7d668",
   "metadata": {},
   "outputs": [
    {
     "data": {
      "text/plain": [
       "20.7"
      ]
     },
     "execution_count": 74,
     "metadata": {},
     "output_type": "execute_result"
    }
   ],
   "source": [
    "2.3 + 6.1 + 5.1 + 7.2         #Float addition with more than 2 numbers"
   ]
  },
  {
   "cell_type": "markdown",
   "id": "21ecdfdc",
   "metadata": {},
   "source": [
    "#### 1.2 Subtraction\n",
    "This operator subtract two or more numbers. It is represented by - symbol."
   ]
  },
  {
   "cell_type": "code",
   "execution_count": 12,
   "id": "abcf4875",
   "metadata": {},
   "outputs": [
    {
     "data": {
      "text/plain": [
       "3"
      ]
     },
     "execution_count": 12,
     "metadata": {},
     "output_type": "execute_result"
    }
   ],
   "source": [
    "5 - 2        #Integer subtraction"
   ]
  },
  {
   "cell_type": "code",
   "execution_count": 13,
   "id": "60719eb3",
   "metadata": {},
   "outputs": [
    {
     "data": {
      "text/plain": [
       "-7"
      ]
     },
     "execution_count": 13,
     "metadata": {},
     "output_type": "execute_result"
    }
   ],
   "source": [
    "-2 - 5        #Integer subtraction"
   ]
  },
  {
   "cell_type": "code",
   "execution_count": 14,
   "id": "a10bed83",
   "metadata": {},
   "outputs": [
    {
     "data": {
      "text/plain": [
       "-3.3"
      ]
     },
     "execution_count": 14,
     "metadata": {},
     "output_type": "execute_result"
    }
   ],
   "source": [
    "2.3 - 5.6        #Float subtraction"
   ]
  },
  {
   "cell_type": "code",
   "execution_count": 48,
   "id": "5b38e9e5",
   "metadata": {},
   "outputs": [
    {
     "data": {
      "text/plain": [
       "13.9"
      ]
     },
     "execution_count": 48,
     "metadata": {},
     "output_type": "execute_result"
    }
   ],
   "source": [
    "28.8 - 14.9        #Float subtraction"
   ]
  },
  {
   "cell_type": "code",
   "execution_count": 76,
   "id": "fb47e86a",
   "metadata": {},
   "outputs": [
    {
     "data": {
      "text/plain": [
       "-4"
      ]
     },
     "execution_count": 76,
     "metadata": {},
     "output_type": "execute_result"
    }
   ],
   "source": [
    "15 - 6 - 8 - 5         #Integer subtraction with more than 2 numbers"
   ]
  },
  {
   "cell_type": "code",
   "execution_count": 96,
   "id": "a8ba52e2",
   "metadata": {},
   "outputs": [
    {
     "data": {
      "text/plain": [
       "-3.799999999999999"
      ]
     },
     "execution_count": 96,
     "metadata": {},
     "output_type": "execute_result"
    }
   ],
   "source": [
    "12.3 - 6.1 - 5.1 - 4.9     #Float subtraction with more than 2 numbers"
   ]
  },
  {
   "cell_type": "markdown",
   "id": "d1f2d397",
   "metadata": {},
   "source": [
    "#### 1.3 Multiplication\n",
    "This operator multiply two or more numbers. It is represented by * symbol."
   ]
  },
  {
   "cell_type": "code",
   "execution_count": 65,
   "id": "4bad08c4",
   "metadata": {},
   "outputs": [
    {
     "data": {
      "text/plain": [
       "10"
      ]
     },
     "execution_count": 65,
     "metadata": {},
     "output_type": "execute_result"
    }
   ],
   "source": [
    "2 * 5         #Integer multiplication"
   ]
  },
  {
   "cell_type": "code",
   "execution_count": 66,
   "id": "f2031048",
   "metadata": {},
   "outputs": [
    {
     "data": {
      "text/plain": [
       "5525"
      ]
     },
     "execution_count": 66,
     "metadata": {},
     "output_type": "execute_result"
    }
   ],
   "source": [
    "85 * 65        #Integer multiplication"
   ]
  },
  {
   "cell_type": "code",
   "execution_count": 67,
   "id": "c759dd99",
   "metadata": {},
   "outputs": [
    {
     "data": {
      "text/plain": [
       "3918.45"
      ]
     },
     "execution_count": 67,
     "metadata": {},
     "output_type": "execute_result"
    }
   ],
   "source": [
    "45.3 * 86.5        #float multiplication"
   ]
  },
  {
   "cell_type": "code",
   "execution_count": 69,
   "id": "349cf677",
   "metadata": {},
   "outputs": [
    {
     "data": {
      "text/plain": [
       "-2067.412"
      ]
     },
     "execution_count": 69,
     "metadata": {},
     "output_type": "execute_result"
    }
   ],
   "source": [
    "-45.8 * 45.14        #float multiplication (Only one number has negative sign that is why the sign of the result is negative.)"
   ]
  },
  {
   "cell_type": "code",
   "execution_count": 97,
   "id": "0c1ecfcc",
   "metadata": {},
   "outputs": [
    {
     "data": {
      "text/plain": [
       "309400"
      ]
     },
     "execution_count": 97,
     "metadata": {},
     "output_type": "execute_result"
    }
   ],
   "source": [
    "85 * 65 * 56        #Integer multiplication with more than 2 numbers"
   ]
  },
  {
   "cell_type": "code",
   "execution_count": 99,
   "id": "ecf897d2",
   "metadata": {},
   "outputs": [
    {
     "data": {
      "text/plain": [
       "-66570.6664"
      ]
     },
     "execution_count": 99,
     "metadata": {},
     "output_type": "execute_result"
    }
   ],
   "source": [
    "-45.8 * 45.14 * 32.2       #float multiplication with more than 2 numbers"
   ]
  },
  {
   "cell_type": "markdown",
   "id": "5e7b4537",
   "metadata": {},
   "source": [
    "#### 1.4 Division\n",
    "This operator divide two numbers. It gives __float quotient__ when two number are divided. It is represented by / symbol.\n",
    "\n",
    "__NOTE:__ Here the quotient is always float (must have decimal point). It doesn't matter whether we divide integer to integer\n",
    "or integer to float."
   ]
  },
  {
   "cell_type": "code",
   "execution_count": 100,
   "id": "3599d691",
   "metadata": {},
   "outputs": [
    {
     "data": {
      "text/plain": [
       "2.0"
      ]
     },
     "execution_count": 100,
     "metadata": {},
     "output_type": "execute_result"
    }
   ],
   "source": [
    "4/2        #Integer division----------> see the quotient is a float value instead of integer value."
   ]
  },
  {
   "cell_type": "code",
   "execution_count": 102,
   "id": "1d2d896b",
   "metadata": {},
   "outputs": [
    {
     "data": {
      "text/plain": [
       "1.25"
      ]
     },
     "execution_count": 102,
     "metadata": {},
     "output_type": "execute_result"
    }
   ],
   "source": [
    "5/4        #Integer division"
   ]
  },
  {
   "cell_type": "code",
   "execution_count": 130,
   "id": "8b01ee9d",
   "metadata": {},
   "outputs": [
    {
     "data": {
      "text/plain": [
       "-1.25"
      ]
     },
     "execution_count": 130,
     "metadata": {},
     "output_type": "execute_result"
    }
   ],
   "source": [
    "-5/4      #---> Here the numerator has negative sign that is why the sign of the result is negative."
   ]
  },
  {
   "cell_type": "code",
   "execution_count": 131,
   "id": "d550518f",
   "metadata": {},
   "outputs": [
    {
     "data": {
      "text/plain": [
       "-1.25"
      ]
     },
     "execution_count": 131,
     "metadata": {},
     "output_type": "execute_result"
    }
   ],
   "source": [
    "5/-4     #---> Here the denominator has negative sign that is why the sign of the result is negative."
   ]
  },
  {
   "cell_type": "code",
   "execution_count": 132,
   "id": "73075347",
   "metadata": {},
   "outputs": [
    {
     "data": {
      "text/plain": [
       "1.25"
      ]
     },
     "execution_count": 132,
     "metadata": {},
     "output_type": "execute_result"
    }
   ],
   "source": [
    "-5/-4     #---> Here both numerator and denominator have negative sign that is why the sign of the result is positive."
   ]
  },
  {
   "cell_type": "code",
   "execution_count": 106,
   "id": "cc4afc0f",
   "metadata": {},
   "outputs": [
    {
     "data": {
      "text/plain": [
       "20.52"
      ]
     },
     "execution_count": 106,
     "metadata": {},
     "output_type": "execute_result"
    }
   ],
   "source": [
    "25.65/1.25        #Float division"
   ]
  },
  {
   "cell_type": "code",
   "execution_count": 113,
   "id": "1b048deb",
   "metadata": {},
   "outputs": [
    {
     "data": {
      "text/plain": [
       "48.6328125"
      ]
     },
     "execution_count": 113,
     "metadata": {},
     "output_type": "execute_result"
    }
   ],
   "source": [
    "1245/25.6      #integer float division"
   ]
  },
  {
   "cell_type": "markdown",
   "id": "6adbcf59",
   "metadata": {},
   "source": [
    "#### 1.5 Modulo\n",
    "This operator gives the remainder when two numbers are divided. It is represented by % symbol. \n",
    "\n",
    "__NOTE:__ When a number is evenly divisible by another number then the remainder is always 0."
   ]
  },
  {
   "cell_type": "code",
   "execution_count": 114,
   "id": "a0b2e3fc",
   "metadata": {},
   "outputs": [
    {
     "data": {
      "text/plain": [
       "0"
      ]
     },
     "execution_count": 114,
     "metadata": {},
     "output_type": "execute_result"
    }
   ],
   "source": [
    "4%2"
   ]
  },
  {
   "cell_type": "code",
   "execution_count": 115,
   "id": "2ddceac0",
   "metadata": {},
   "outputs": [
    {
     "data": {
      "text/plain": [
       "1"
      ]
     },
     "execution_count": 115,
     "metadata": {},
     "output_type": "execute_result"
    }
   ],
   "source": [
    "5%2"
   ]
  },
  {
   "cell_type": "markdown",
   "id": "a92ad53f",
   "metadata": {},
   "source": [
    "__Note__:\n",
    "1. The sign of the remainder is same as the sign of the __denominator__ not __numerator__.\n",
    "2. if the sign of the numerator and denominator is __not the same__, then the modulo will be obtained by subtracting the numerator from the next multiple of the denominator."
   ]
  },
  {
   "cell_type": "code",
   "execution_count": 178,
   "id": "3f927c07",
   "metadata": {},
   "outputs": [
    {
     "data": {
      "text/plain": [
       "-4"
      ]
     },
     "execution_count": 178,
     "metadata": {},
     "output_type": "execute_result"
    }
   ],
   "source": [
    "11%-5\n",
    "# Here you can see clearly that the sign of 11 and -5 are different. The sign of denominator is negative that is why \n",
    "# the sign of the remainder must be negative. In this case the next multiple of 5 which is denominator, is 15 and 15-11=4 \n",
    "# that is why -4 is the answer instead of -1."
   ]
  },
  {
   "cell_type": "code",
   "execution_count": 153,
   "id": "28e4033f",
   "metadata": {},
   "outputs": [
    {
     "data": {
      "text/plain": [
       "4"
      ]
     },
     "execution_count": 153,
     "metadata": {},
     "output_type": "execute_result"
    }
   ],
   "source": [
    "-11%5\n",
    "# Here you can see clearly that the sign of 11 and -5 are different. The sign of denominator is positive that is why \n",
    "# the sign of the remainder must be positive. In this case the next multiple of 5 which is denominator, is 15 and 15-11=4 \n",
    "# that is why 4 is the answer instead of 1."
   ]
  },
  {
   "cell_type": "code",
   "execution_count": 177,
   "id": "acb24fc6",
   "metadata": {},
   "outputs": [
    {
     "data": {
      "text/plain": [
       "-1"
      ]
     },
     "execution_count": 177,
     "metadata": {},
     "output_type": "execute_result"
    }
   ],
   "source": [
    "-11%-5\n",
    "# Here you can see clearly that the sign of -11 and -5 are same. The sign of denominator is negative that is why \n",
    "# the sign of the remainder must be negative. Here both numerator and denominator is same sign so here simply the remainder \n",
    "# will be -1."
   ]
  },
  {
   "cell_type": "code",
   "execution_count": 179,
   "id": "36cbc6c5",
   "metadata": {},
   "outputs": [
    {
     "data": {
      "text/plain": [
       "6"
      ]
     },
     "execution_count": 179,
     "metadata": {},
     "output_type": "execute_result"
    }
   ],
   "source": [
    "-22%7   #---------> Try to understant the logic here by yourself why the answer is 6 not -1. Do it yourself."
   ]
  },
  {
   "cell_type": "code",
   "execution_count": 122,
   "id": "23c9a094",
   "metadata": {},
   "outputs": [
    {
     "data": {
      "text/plain": [
       "5"
      ]
     },
     "execution_count": 122,
     "metadata": {},
     "output_type": "execute_result"
    }
   ],
   "source": [
    "19%7"
   ]
  },
  {
   "cell_type": "markdown",
   "id": "68248e48",
   "metadata": {},
   "source": [
    "#### 1.6 Floor Division\n",
    "This operator divide two numbers. It gives __Integer quotient__ when two number are divided. It is represented by __//__ symbol.\n",
    "\n",
    "__NOTE:__ Here the quotient is always integer if both the numbers are integer. If any number is negative (whether the denominator or numerator), then the quotient will float rather than integer."
   ]
  },
  {
   "cell_type": "code",
   "execution_count": 181,
   "id": "10c87a3f",
   "metadata": {},
   "outputs": [
    {
     "data": {
      "text/plain": [
       "2"
      ]
     },
     "execution_count": 181,
     "metadata": {},
     "output_type": "execute_result"
    }
   ],
   "source": [
    "4//2"
   ]
  },
  {
   "cell_type": "code",
   "execution_count": 182,
   "id": "8713acfb",
   "metadata": {},
   "outputs": [
    {
     "data": {
      "text/plain": [
       "2"
      ]
     },
     "execution_count": 182,
     "metadata": {},
     "output_type": "execute_result"
    }
   ],
   "source": [
    "5//2  #----> Here the real quotient should be 2.5 but since we use floor division, that is why the answer is 2 (Integer)."
   ]
  },
  {
   "cell_type": "code",
   "execution_count": 184,
   "id": "d48910b3",
   "metadata": {},
   "outputs": [
    {
     "data": {
      "text/plain": [
       "2"
      ]
     },
     "execution_count": 184,
     "metadata": {},
     "output_type": "execute_result"
    }
   ],
   "source": [
    "8//3  #----> Here the real quotient should be 2.6667 but the answer is 2 (Integer) not 3 which means its not round the result."
   ]
  },
  {
   "cell_type": "code",
   "execution_count": 188,
   "id": "95a309f6",
   "metadata": {},
   "outputs": [
    {
     "data": {
      "text/plain": [
       "2.0"
      ]
     },
     "execution_count": 188,
     "metadata": {},
     "output_type": "execute_result"
    }
   ],
   "source": [
    "8.5 //3.2     #----> Here the quotient is float although we used floor division."
   ]
  },
  {
   "cell_type": "markdown",
   "id": "1d62010a",
   "metadata": {},
   "source": [
    "#### 1.7 Exponential or power\n",
    "This operator basically evaluates the exponent of a number for the given power. It is represented by ** symbol."
   ]
  },
  {
   "cell_type": "code",
   "execution_count": 190,
   "id": "9d95d925",
   "metadata": {},
   "outputs": [
    {
     "data": {
      "text/plain": [
       "8"
      ]
     },
     "execution_count": 190,
     "metadata": {},
     "output_type": "execute_result"
    }
   ],
   "source": [
    "2**3"
   ]
  },
  {
   "cell_type": "code",
   "execution_count": 191,
   "id": "d7513a77",
   "metadata": {},
   "outputs": [
    {
     "data": {
      "text/plain": [
       "3125"
      ]
     },
     "execution_count": 191,
     "metadata": {},
     "output_type": "execute_result"
    }
   ],
   "source": [
    "5**5"
   ]
  },
  {
   "cell_type": "code",
   "execution_count": 197,
   "id": "08ab6083",
   "metadata": {},
   "outputs": [
    {
     "data": {
      "text/plain": [
       "625"
      ]
     },
     "execution_count": 197,
     "metadata": {},
     "output_type": "execute_result"
    }
   ],
   "source": [
    "(-5)**4    #-------> Here the base is (-5) and the power is even that is why the result is positive."
   ]
  },
  {
   "cell_type": "code",
   "execution_count": 199,
   "id": "1f10f6dc",
   "metadata": {},
   "outputs": [
    {
     "data": {
      "text/plain": [
       "-625"
      ]
     },
     "execution_count": 199,
     "metadata": {},
     "output_type": "execute_result"
    }
   ],
   "source": [
    "-5**4    #-------> Here the base is 5 not (-5). This means the expression is (-1)*(5)**4 that is why the result is negative."
   ]
  },
  {
   "cell_type": "code",
   "execution_count": null,
   "id": "4645fd7c",
   "metadata": {},
   "outputs": [],
   "source": [
    "(-5)**5   #-------> Here the base is (-5) and the power is odd that is why the result is negative."
   ]
  },
  {
   "cell_type": "code",
   "execution_count": 194,
   "id": "cc4e349f",
   "metadata": {},
   "outputs": [
    {
     "data": {
      "text/plain": [
       "0.04"
      ]
     },
     "execution_count": 194,
     "metadata": {},
     "output_type": "execute_result"
    }
   ],
   "source": [
    "5**(-2)    #-------> Here 5**(-2) means 5^(-2)= 1/(5^2)=1/25 that is why the answer is 0.04."
   ]
  },
  {
   "cell_type": "markdown",
   "id": "2db243d1",
   "metadata": {},
   "source": [
    "__Note__: Float arithmetic operation gives approximate value which is depends upon the system bit (32 bit or 64 bit). That is why please take care while performing float operation. If you want to perform operation with precision, then you can Decimal module."
   ]
  },
  {
   "cell_type": "markdown",
   "id": "8cc6a89b",
   "metadata": {},
   "source": [
    "## 2. Assignment Operators\n",
    " There are 8 types of __assignment operators.__\n",
    " - Assignment\n",
    " - Addition Assignment\n",
    " - Subtraction Assignment\n",
    " - Multiplication Assignment\n",
    " - Division Assignment\n",
    " - Modulo Assignment\n",
    " - Floor Division Assignment\n",
    " - Exponential or Power Assignment"
   ]
  },
  {
   "cell_type": "markdown",
   "id": "ecd755b4",
   "metadata": {},
   "source": [
    "#### 2.1 Assignment\n",
    "This operator basically assign the value to a variable. It is represented by = symbol."
   ]
  },
  {
   "cell_type": "code",
   "execution_count": 200,
   "id": "e683e34f",
   "metadata": {},
   "outputs": [
    {
     "name": "stdout",
     "output_type": "stream",
     "text": [
      "5\n"
     ]
    }
   ],
   "source": [
    "# Here a is the variable and we are assigning 5 to the variable a.\n",
    "a = 5\n",
    "print(a)"
   ]
  },
  {
   "cell_type": "code",
   "execution_count": 202,
   "id": "d5904b64",
   "metadata": {},
   "outputs": [
    {
     "name": "stdout",
     "output_type": "stream",
     "text": [
      "8\n"
     ]
    }
   ],
   "source": [
    "# We can reassign another value to the same variable which is already defined.\n",
    "a = 8\n",
    "print(a)"
   ]
  },
  {
   "cell_type": "code",
   "execution_count": 206,
   "id": "af2114b2",
   "metadata": {},
   "outputs": [
    {
     "name": "stdout",
     "output_type": "stream",
     "text": [
      "10\n",
      "20\n",
      "30\n"
     ]
    }
   ],
   "source": [
    "x, y, z = 10, 20, 30\n",
    "# We can assign more than 1 variable in a single line. Please not both side must have same numbers that is on left side there\n",
    "# are three variables which means on the right side there must be three values else it will raise an error.\n",
    "print(x)\n",
    "print(y)\n",
    "print(z)"
   ]
  },
  {
   "cell_type": "code",
   "execution_count": 207,
   "id": "e9345b0f",
   "metadata": {},
   "outputs": [
    {
     "name": "stdout",
     "output_type": "stream",
     "text": [
      "4\n",
      "4\n"
     ]
    }
   ],
   "source": [
    "p = 4\n",
    "q = p\n",
    "print(p)\n",
    "print(q)\n",
    "# Here we are assigning the value of variable p to another variable q."
   ]
  },
  {
   "cell_type": "code",
   "execution_count": 209,
   "id": "7af61e4d",
   "metadata": {},
   "outputs": [
    {
     "name": "stdout",
     "output_type": "stream",
     "text": [
      "hello\n"
     ]
    }
   ],
   "source": [
    "str = \"hello\"\n",
    "print(str)\n",
    "# Here we are assigning string to the variable str."
   ]
  },
  {
   "cell_type": "code",
   "execution_count": 210,
   "id": "251b5b56",
   "metadata": {},
   "outputs": [
    {
     "name": "stdout",
     "output_type": "stream",
     "text": [
      "True\n"
     ]
    }
   ],
   "source": [
    "boolean = True\n",
    "print(boolean)\n",
    "# Here we are assigning boolean datatype to the variable boolean."
   ]
  },
  {
   "cell_type": "markdown",
   "id": "c5ec75c9",
   "metadata": {},
   "source": [
    "#### 2.2 Addition Assignment\n",
    "This operator first add the value and then assign the increment value to the variable. It is represented by += symbol."
   ]
  },
  {
   "cell_type": "code",
   "execution_count": 211,
   "id": "6c43e2d9",
   "metadata": {},
   "outputs": [
    {
     "name": "stdout",
     "output_type": "stream",
     "text": [
      "9\n"
     ]
    }
   ],
   "source": [
    "a=5       #----> Here we first assign 5 to the variable 5.\n",
    "a+=4       #----> Next we first add 4 to the initial value of a which was 5 then assign, so the final value of a become 5+4=9.\n",
    "print(a)"
   ]
  },
  {
   "cell_type": "markdown",
   "id": "69098351",
   "metadata": {},
   "source": [
    "__Note__: The + symbol must comes before the = symbol"
   ]
  },
  {
   "cell_type": "code",
   "execution_count": 212,
   "id": "6b4a3f04",
   "metadata": {},
   "outputs": [],
   "source": [
    "a=+5     #----> This is not an addition assignment operator, this will works a simple assignment operator.(Incorrect way)\n",
    "print(a)     "
   ]
  },
  {
   "cell_type": "markdown",
   "id": "6a00f3c2",
   "metadata": {},
   "source": [
    "#### 2.3 Subtraction Assignment\n",
    "This operator first subtract the value and then assign the decrement value to the variable. It is represented by -= symbol."
   ]
  },
  {
   "cell_type": "code",
   "execution_count": 218,
   "id": "5149a669",
   "metadata": {},
   "outputs": [
    {
     "name": "stdout",
     "output_type": "stream",
     "text": [
      "1\n"
     ]
    }
   ],
   "source": [
    "a=5       #----> Here we first assign 5 to the variable 5.\n",
    "a-=4    #----> Next we first subtract 4 to the initial value of a which was 5 then assign, so the final value of a become 5-4=1.\n",
    "print(a)"
   ]
  },
  {
   "cell_type": "code",
   "execution_count": 220,
   "id": "937e081d",
   "metadata": {},
   "outputs": [
    {
     "name": "stdout",
     "output_type": "stream",
     "text": [
      "-5\n"
     ]
    }
   ],
   "source": [
    "a=-5    #----> Simple assignment operators, we are assigning -5 to a.\n",
    "print(a)"
   ]
  },
  {
   "cell_type": "markdown",
   "id": "18bbb857",
   "metadata": {},
   "source": [
    "__Note__: The - symbol must comes before the = symbol"
   ]
  },
  {
   "cell_type": "markdown",
   "id": "76c4551f",
   "metadata": {},
   "source": [
    "#### 2.4 Multiplication Assignment\n",
    "This operator first multiply the value and then assign the result to the variable. It is represented by *= symbol."
   ]
  },
  {
   "cell_type": "code",
   "execution_count": 222,
   "id": "6c8fbe72",
   "metadata": {},
   "outputs": [
    {
     "name": "stdout",
     "output_type": "stream",
     "text": [
      "20\n"
     ]
    }
   ],
   "source": [
    "a=5       #----> Here we first assign 5 to the variable 5.\n",
    "a*=4   #----> Next we first multiply 4 to the initial value of a which was 5 then assign, so the final value of a become 5*4=20.\n",
    "print(a)"
   ]
  },
  {
   "cell_type": "code",
   "execution_count": 224,
   "id": "0cbb0fc5",
   "metadata": {},
   "outputs": [
    {
     "ename": "SyntaxError",
     "evalue": "can't use starred expression here (3667629561.py, line 1)",
     "output_type": "error",
     "traceback": [
      "\u001b[1;36m  Cell \u001b[1;32mIn[224], line 1\u001b[1;36m\u001b[0m\n\u001b[1;33m    a=*5    #----> It will raise an error as *  is an operator and 5 is an integer we can't assign both different things to a.\u001b[0m\n\u001b[1;37m      ^\u001b[0m\n\u001b[1;31mSyntaxError\u001b[0m\u001b[1;31m:\u001b[0m can't use starred expression here\n"
     ]
    }
   ],
   "source": [
    "a=*5    #----> It will raise an error as *  is an operator and 5 is an integer we can't assign both different things to a.\n",
    "print(a)"
   ]
  },
  {
   "cell_type": "markdown",
   "id": "ab402405",
   "metadata": {},
   "source": [
    "__Note__: The * symbol must comes before the = symbol"
   ]
  },
  {
   "cell_type": "markdown",
   "id": "fffd0a60",
   "metadata": {},
   "source": [
    "#### 2.5 Division Assignment\n",
    "This operator first divide the value and then assign the result to the variable. It is represented by /= symbol.\n",
    "\n",
    "__Note__: This will always gives float value."
   ]
  },
  {
   "cell_type": "code",
   "execution_count": 226,
   "id": "601c014c",
   "metadata": {},
   "outputs": [
    {
     "name": "stdout",
     "output_type": "stream",
     "text": [
      "1.0\n"
     ]
    }
   ],
   "source": [
    "a=5       #----> Here we first assign 5 to the variable 5.\n",
    "a/=5    #----> Next we first divide the initial value of a which was 5 by 5 then assign, so the final value of a become 5/5=1.0.\n",
    "print(a)"
   ]
  },
  {
   "cell_type": "code",
   "execution_count": 227,
   "id": "77b3d9aa",
   "metadata": {},
   "outputs": [
    {
     "ename": "SyntaxError",
     "evalue": "invalid syntax (3388681882.py, line 1)",
     "output_type": "error",
     "traceback": [
      "\u001b[1;36m  Cell \u001b[1;32mIn[227], line 1\u001b[1;36m\u001b[0m\n\u001b[1;33m    a=/5\u001b[0m\n\u001b[1;37m      ^\u001b[0m\n\u001b[1;31mSyntaxError\u001b[0m\u001b[1;31m:\u001b[0m invalid syntax\n"
     ]
    }
   ],
   "source": [
    "a=/5      #----> It will raise an error.\n",
    "print(a)"
   ]
  },
  {
   "cell_type": "markdown",
   "id": "583bd879",
   "metadata": {},
   "source": [
    "__Note__: The / symbol must comes before the = symbol"
   ]
  },
  {
   "cell_type": "markdown",
   "id": "b77766ea",
   "metadata": {},
   "source": [
    "#### 2.6 Modulo Assignment\n",
    "This operator first find the remainder then assign the result to the variable. It is represented by %= symbol."
   ]
  },
  {
   "cell_type": "code",
   "execution_count": 228,
   "id": "4592cbf6",
   "metadata": {},
   "outputs": [
    {
     "name": "stdout",
     "output_type": "stream",
     "text": [
      "1\n"
     ]
    }
   ],
   "source": [
    "a=5       #----> Here we first assign 5 to the variable 5.\n",
    "a%=2    #----> Next it find the remainder which is 1 as 5%2=1, so the final value of a become 1.\n",
    "print(a)"
   ]
  },
  {
   "cell_type": "markdown",
   "id": "cbb7f72a",
   "metadata": {},
   "source": [
    "#### 2.7 Floor Division Assignment\n",
    "This operator first divide the value and then assign the result to the variable. It is represented by //= symbol.\n",
    "\n",
    "__Note__: This will always gives integer value until float value is given."
   ]
  },
  {
   "cell_type": "code",
   "execution_count": 229,
   "id": "6189da1c",
   "metadata": {},
   "outputs": [
    {
     "name": "stdout",
     "output_type": "stream",
     "text": [
      "2\n"
     ]
    }
   ],
   "source": [
    "a=5       #----> Here we first assign 5 to the variable 5.\n",
    "a//=2   #----> Next we first divide the initial value of a which was 5 by 2 then assign, so the final value of a become 5//2=2.\n",
    "print(a)"
   ]
  },
  {
   "cell_type": "code",
   "execution_count": 230,
   "id": "bf60cdde",
   "metadata": {},
   "outputs": [
    {
     "name": "stdout",
     "output_type": "stream",
     "text": [
      "2.0\n"
     ]
    }
   ],
   "source": [
    "a=5       #----> Here we first assign 5 to the variable 5.\n",
    "a//=2.0  #Next we first divide the initial value of a which was 5 by 2.0 then assign, so the final value of a become 5//2.0=2.0.\n",
    "print(a)   # Here the result is float rather than integer."
   ]
  },
  {
   "cell_type": "markdown",
   "id": "7b43fdd0",
   "metadata": {},
   "source": [
    "#### 2.8 Exponential or power Assignment\n",
    "This operator first evaluate the power and then assign the result to the variable. It is represented by **= symbol."
   ]
  },
  {
   "cell_type": "code",
   "execution_count": 231,
   "id": "e150f77f",
   "metadata": {},
   "outputs": [
    {
     "name": "stdout",
     "output_type": "stream",
     "text": [
      "25\n"
     ]
    }
   ],
   "source": [
    "a=5       #----> Here we first assign 5 to the variable 5.\n",
    "a**=2   #----> Next the value of 5^2 is calculated, 25 comes out which then assigned to a.\n",
    "print(a)"
   ]
  },
  {
   "cell_type": "markdown",
   "id": "90db3a65",
   "metadata": {},
   "source": [
    "## 3. Comparison Operators\n",
    " There are 6 types of __comparison operators.__\n",
    " - Equal\n",
    " - Not equal\n",
    " - Less than\n",
    " - Greater than\n",
    " - Less than or equal\n",
    " - Greater than or equal\n",
    " \n",
    " __Note__: This operators basically compare the condition, expression, values and returns only boolean value that is either True or False."
   ]
  },
  {
   "cell_type": "markdown",
   "id": "caafa04e",
   "metadata": {},
   "source": [
    "#### 3.1 Equal\n",
    "This operator return __True__ if both side of the __equal to__ symbol is same __(value and datatype)__ else __False__. It is represented by == symbol."
   ]
  },
  {
   "cell_type": "code",
   "execution_count": 233,
   "id": "1c6fd69a",
   "metadata": {},
   "outputs": [
    {
     "data": {
      "text/plain": [
       "False"
      ]
     },
     "execution_count": 233,
     "metadata": {},
     "output_type": "execute_result"
    }
   ],
   "source": [
    "a=5\n",
    "b=4\n",
    "a==b\n",
    "# Here the value of a and b are not same that is why the result comes out False which is a boolean."
   ]
  },
  {
   "cell_type": "code",
   "execution_count": 234,
   "id": "a71378b3",
   "metadata": {},
   "outputs": [
    {
     "data": {
      "text/plain": [
       "False"
      ]
     },
     "execution_count": 234,
     "metadata": {},
     "output_type": "execute_result"
    }
   ],
   "source": [
    "a=25\n",
    "b=\"25\"\n",
    "a==b\n",
    "# Here the datatype of a and b are not same that is why the result comes out False."
   ]
  },
  {
   "cell_type": "code",
   "execution_count": 236,
   "id": "04c6c078",
   "metadata": {},
   "outputs": [
    {
     "data": {
      "text/plain": [
       "True"
      ]
     },
     "execution_count": 236,
     "metadata": {},
     "output_type": "execute_result"
    }
   ],
   "source": [
    "a=5\n",
    "b=2\n",
    "a+b == b+a\n",
    "# Here both side expression compares which is equal that is why the result comes out true. "
   ]
  },
  {
   "cell_type": "markdown",
   "id": "deb4a2cd",
   "metadata": {},
   "source": [
    "#### 3.2 Not Equal\n",
    "This operator return __False__ if both side of the __equal to__ symbol is same __(value and datatype)__ else __True__. It is represented by != symbol. It is basically opposite of equal operator."
   ]
  },
  {
   "cell_type": "code",
   "execution_count": 237,
   "id": "9e3f151a",
   "metadata": {},
   "outputs": [
    {
     "data": {
      "text/plain": [
       "True"
      ]
     },
     "execution_count": 237,
     "metadata": {},
     "output_type": "execute_result"
    }
   ],
   "source": [
    "a=5\n",
    "b=2\n",
    "a!=b\n",
    "# Here both the value are different that is why the result comes out True if both the value are same then the result will \n",
    "# be False."
   ]
  },
  {
   "cell_type": "code",
   "execution_count": 244,
   "id": "79d5a76e",
   "metadata": {},
   "outputs": [
    {
     "data": {
      "text/plain": [
       "True"
      ]
     },
     "execution_count": 244,
     "metadata": {},
     "output_type": "execute_result"
    }
   ],
   "source": [
    "a=5\n",
    "b=2\n",
    "a+b != b+a\n",
    "# Here both side expression compares which is equal that is why the result comes out True. "
   ]
  },
  {
   "cell_type": "markdown",
   "id": "cf6e19e6",
   "metadata": {},
   "source": [
    "#### 3.3 Less than\n",
    "This operator return __True__ if the left side of the < symbol is __less than__ the right side else return  __False__. It is represented by < symbol.\n",
    "\n",
    "__Note__: The datatype of both side must be same else it will raise an error."
   ]
  },
  {
   "cell_type": "code",
   "execution_count": 240,
   "id": "3ae0f558",
   "metadata": {},
   "outputs": [
    {
     "data": {
      "text/plain": [
       "False"
      ]
     },
     "execution_count": 240,
     "metadata": {},
     "output_type": "execute_result"
    }
   ],
   "source": [
    "a=5\n",
    "b=2\n",
    "a < b     #----> Here the value of a is greater than b that is why the result comes out False."
   ]
  },
  {
   "cell_type": "code",
   "execution_count": 241,
   "id": "20f39672",
   "metadata": {},
   "outputs": [
    {
     "data": {
      "text/plain": [
       "True"
      ]
     },
     "execution_count": 241,
     "metadata": {},
     "output_type": "execute_result"
    }
   ],
   "source": [
    "b < a"
   ]
  },
  {
   "cell_type": "markdown",
   "id": "8ea9d0a3",
   "metadata": {},
   "source": [
    "#### 3.4 Greater than\n",
    "This operator return __True__ if the left side of the > symbol is __greater than__ the right side else return  __False__. It is represented by > symbol.\n",
    "\n",
    "__Note__: The datatype of both side must be same else it will raise an error."
   ]
  },
  {
   "cell_type": "code",
   "execution_count": 245,
   "id": "0adb0b75",
   "metadata": {},
   "outputs": [
    {
     "data": {
      "text/plain": [
       "True"
      ]
     },
     "execution_count": 245,
     "metadata": {},
     "output_type": "execute_result"
    }
   ],
   "source": [
    "a=5\n",
    "b=2\n",
    "a > b     #----> Here the value of a is greater than b that is why the result comes out True."
   ]
  },
  {
   "cell_type": "code",
   "execution_count": 246,
   "id": "cf6b4b5a",
   "metadata": {},
   "outputs": [
    {
     "data": {
      "text/plain": [
       "False"
      ]
     },
     "execution_count": 246,
     "metadata": {},
     "output_type": "execute_result"
    }
   ],
   "source": [
    "b > a"
   ]
  },
  {
   "cell_type": "markdown",
   "id": "a340be59",
   "metadata": {},
   "source": [
    "#### 3.5 Less than or equal to\n",
    "This operator return __True__ if the left side of the <= symbol is __less than or equal to__ the right side else return  __False__. It is represented by <= symbol.\n",
    "\n",
    "__Note__: The datatype of both side must be same else it will raise an error."
   ]
  },
  {
   "cell_type": "code",
   "execution_count": 249,
   "id": "285bc791",
   "metadata": {},
   "outputs": [
    {
     "data": {
      "text/plain": [
       "False"
      ]
     },
     "execution_count": 249,
     "metadata": {},
     "output_type": "execute_result"
    }
   ],
   "source": [
    "a=5\n",
    "b=2\n",
    "a <= b     #----> Here the value of a is greater than b that is why the result comes out False."
   ]
  },
  {
   "cell_type": "code",
   "execution_count": 250,
   "id": "5827b1dd",
   "metadata": {},
   "outputs": [
    {
     "data": {
      "text/plain": [
       "True"
      ]
     },
     "execution_count": 250,
     "metadata": {},
     "output_type": "execute_result"
    }
   ],
   "source": [
    "a=5\n",
    "b=5\n",
    "a <= b     #----> Here the value of a is equal to b that is why the result comes out True."
   ]
  },
  {
   "cell_type": "code",
   "execution_count": 251,
   "id": "853d3c3b",
   "metadata": {},
   "outputs": [
    {
     "data": {
      "text/plain": [
       "True"
      ]
     },
     "execution_count": 251,
     "metadata": {},
     "output_type": "execute_result"
    }
   ],
   "source": [
    "a=2\n",
    "b=5\n",
    "a <= b     #----> Here the value of a is less than b that is why the result comes out True."
   ]
  },
  {
   "cell_type": "code",
   "execution_count": 252,
   "id": "07df4595",
   "metadata": {},
   "outputs": [
    {
     "ename": "SyntaxError",
     "evalue": "invalid syntax (818888155.py, line 3)",
     "output_type": "error",
     "traceback": [
      "\u001b[1;36m  Cell \u001b[1;32mIn[252], line 3\u001b[1;36m\u001b[0m\n\u001b[1;33m    a =< b     #----> Here the value of a is less than b that is why the result comes out True.\u001b[0m\n\u001b[1;37m       ^\u001b[0m\n\u001b[1;31mSyntaxError\u001b[0m\u001b[1;31m:\u001b[0m invalid syntax\n"
     ]
    }
   ],
   "source": [
    "a=2\n",
    "b=5\n",
    "a =< b "
   ]
  },
  {
   "cell_type": "markdown",
   "id": "65146123",
   "metadata": {},
   "source": [
    "__Note__: Please take care of the symbol <=, the symbol < must comes first and then = otherwise it will raise an error."
   ]
  },
  {
   "cell_type": "markdown",
   "id": "6dcfe092",
   "metadata": {},
   "source": [
    "#### 3.6 Greater than or equal to\n",
    "This operator return __True__ if the left side of the <= symbol is greater than or equal to the right side else return False. It is represented by >= symbol.\n",
    "\n",
    "__Note__: The datatype of both side must be same else it will raise an error."
   ]
  },
  {
   "cell_type": "code",
   "execution_count": 253,
   "id": "20250af2",
   "metadata": {},
   "outputs": [
    {
     "data": {
      "text/plain": [
       "True"
      ]
     },
     "execution_count": 253,
     "metadata": {},
     "output_type": "execute_result"
    }
   ],
   "source": [
    "a=5\n",
    "b=2\n",
    "a >= b     #----> Here the value of a is greater than b that is why the result comes out True."
   ]
  },
  {
   "cell_type": "code",
   "execution_count": 254,
   "id": "4c2043f6",
   "metadata": {},
   "outputs": [
    {
     "data": {
      "text/plain": [
       "True"
      ]
     },
     "execution_count": 254,
     "metadata": {},
     "output_type": "execute_result"
    }
   ],
   "source": [
    "a=5\n",
    "b=5\n",
    "a >= b     #----> Here the value of a is equal to b that is why the result comes out True."
   ]
  },
  {
   "cell_type": "code",
   "execution_count": 255,
   "id": "cce8a061",
   "metadata": {},
   "outputs": [
    {
     "data": {
      "text/plain": [
       "False"
      ]
     },
     "execution_count": 255,
     "metadata": {},
     "output_type": "execute_result"
    }
   ],
   "source": [
    "a=2\n",
    "b=5\n",
    "a >= b     #----> Here the value of a is less than b that is why the result comes out False."
   ]
  },
  {
   "cell_type": "markdown",
   "id": "4febcdb6",
   "metadata": {},
   "source": [
    "__Note__: Please take care of the symbol >=, the symbol > must comes first and then = otherwise it will raise an error."
   ]
  },
  {
   "cell_type": "markdown",
   "id": "9582cffe",
   "metadata": {},
   "source": [
    "## 4. Bitwise Operators\n",
    " There are 6 types of __bitwise operators.__\n",
    " - Binary AND (&)\n",
    " - Binary OR (|)\n",
    " - Binary XOR (^)\n",
    " - Binary Ones compliment (~)\n",
    " - Binary Left Shift (<<)\n",
    " - Binary Right Shift (>>)\n",
    " \n",
    " __Note__: This operators works on the basis of binary. If we use these operator, then the operands will be considered as binary instead of normal numbers."
   ]
  },
  {
   "cell_type": "code",
   "execution_count": 257,
   "id": "a59447c0",
   "metadata": {},
   "outputs": [],
   "source": [
    "# Consider the values are:-\n",
    "a=60\n",
    "b=13\n",
    "# The binary of a (which is equal to 60) will be 00111100 and the binary of b (which is equal to 13) will be 00001101."
   ]
  },
  {
   "cell_type": "markdown",
   "id": "a1397edc",
   "metadata": {},
   "source": [
    "#### 4.1 Binary AND\n",
    "This operator works on bits and perform bit by bit operation using the binary AND operator."
   ]
  },
  {
   "cell_type": "markdown",
   "id": "43067c98",
   "metadata": {},
   "source": [
    "Rules for AND operator in binary.\n",
    "\n",
    "1 & 1 = 1\n",
    "\n",
    "1 & 0 = 0\n",
    "\n",
    "0 & 1 = 0\n",
    "\n",
    "0 & 0 = 0"
   ]
  },
  {
   "cell_type": "code",
   "execution_count": 263,
   "id": "756c1e2e",
   "metadata": {},
   "outputs": [
    {
     "data": {
      "text/plain": [
       "12"
      ]
     },
     "execution_count": 263,
     "metadata": {},
     "output_type": "execute_result"
    }
   ],
   "source": [
    "a&b\n",
    "# Here first a and b converted to binary and then AND operation performed on binary number, the result comes in binary\n",
    "# which then converted back to decimal number.\n",
    "# The binary conversion of 12 is 00001100."
   ]
  },
  {
   "attachments": {
    "image-2.png": {
     "image/png": "[encoded data removed]"
    }
   },
   "cell_type": "markdown",
   "id": "53a775bf",
   "metadata": {},
   "source": [
    "![image-2.png](attachment:image-2.png)"
   ]
  },
  {
   "cell_type": "markdown",
   "id": "8f91d237",
   "metadata": {},
   "source": [
    "#### 4.2 Binary OR\n",
    "This operator works on bits and perform bit by bit operation using the binary OR operator.\n",
    "\n",
    "Rules for OR operator in binary.\n",
    "\n",
    "1 | 1 = 1\n",
    "\n",
    "1 | 0 = 1\n",
    "\n",
    "0 | 1 = 1\n",
    "\n",
    "0 | 0 = 0"
   ]
  },
  {
   "cell_type": "code",
   "execution_count": 264,
   "id": "e36ce25d",
   "metadata": {},
   "outputs": [
    {
     "data": {
      "text/plain": [
       "61"
      ]
     },
     "execution_count": 264,
     "metadata": {},
     "output_type": "execute_result"
    }
   ],
   "source": [
    "a|b\n",
    "# Here first a and b converted to binary and then OR operation performed on binary number, the result comes in binary\n",
    "# which then converted back to decimal number.\n",
    "# The binary conversion of 61 is 00111101."
   ]
  },
  {
   "attachments": {
    "image.png": {
     "image/png": "[encoded data removed]"
    }
   },
   "cell_type": "markdown",
   "id": "a89f1fc2",
   "metadata": {},
   "source": [
    "![image.png](attachment:image.png)"
   ]
  },
  {
   "cell_type": "markdown",
   "id": "4c6acd7d",
   "metadata": {},
   "source": [
    "#### 4.3 Binary XOR\n",
    "This operator works on bits and perform bit by bit operation using the binary XOR operator.\n",
    "\n",
    "Rules for XOR operator in binary.\n",
    "\n",
    "1 ^ 1 = 0\n",
    "\n",
    "1 ^ 0 = 1\n",
    "\n",
    "0 ^ 1 = 1\n",
    "\n",
    "0 ^ 0 = 0"
   ]
  },
  {
   "cell_type": "code",
   "execution_count": 265,
   "id": "81a47b11",
   "metadata": {},
   "outputs": [
    {
     "data": {
      "text/plain": [
       "49"
      ]
     },
     "execution_count": 265,
     "metadata": {},
     "output_type": "execute_result"
    }
   ],
   "source": [
    "a^b\n",
    "# Here first a and b converted to binary and then XOR operation performed on binary number, the result comes in binary\n",
    "# which then converted back to decimal number.\n",
    "# The binary conversion of 49 is 00110001."
   ]
  },
  {
   "attachments": {
    "image.png": {
     "image/png": "[encoded data removed]"
    }
   },
   "cell_type": "markdown",
   "id": "fe55f08e",
   "metadata": {},
   "source": [
    "![image.png](attachment:image.png)"
   ]
  },
  {
   "cell_type": "markdown",
   "id": "2a6f6dd9",
   "metadata": {},
   "source": [
    "#### 4.4 Binary Ones Compliment\n",
    "This operator convert 0 to 1 and 1 to 0.\n",
    "\n",
    "Rules for Compliment operator in binary.\n",
    "\n",
    "~ 1 = 0\n",
    "\n",
    "~ 0 = 1\n",
    "\n",
    "__Notes__: Its an unary operator that works on a single variable."
   ]
  },
  {
   "cell_type": "code",
   "execution_count": 266,
   "id": "13756c2c",
   "metadata": {},
   "outputs": [
    {
     "data": {
      "text/plain": [
       "-61"
      ]
     },
     "execution_count": 266,
     "metadata": {},
     "output_type": "execute_result"
    }
   ],
   "source": [
    "~a\n",
    "# Here first a converted to binary and compliment operation performed on binary number, the result comes in binary\n",
    "# which then converted back to decimal number.\n",
    "# The binary conversion of -61 is 11000011."
   ]
  },
  {
   "attachments": {
    "image.png": {
     "image/png": "[encoded data removed]"
    }
   },
   "cell_type": "markdown",
   "id": "c00335a0",
   "metadata": {},
   "source": [
    "![image.png](attachment:image.png)"
   ]
  },
  {
   "cell_type": "code",
   "execution_count": 267,
   "id": "2002758a",
   "metadata": {},
   "outputs": [
    {
     "data": {
      "text/plain": [
       "-14"
      ]
     },
     "execution_count": 267,
     "metadata": {},
     "output_type": "execute_result"
    }
   ],
   "source": [
    "~b\n",
    "# The binary conversion of -14 is 11110010."
   ]
  },
  {
   "cell_type": "markdown",
   "id": "4a094f64",
   "metadata": {},
   "source": [
    "#### 4.5 Binary Left Shift\n",
    "Python bitwise left shift operator shifts the left operand bits towards the left side for the given number of times in the right operand. In simple terms, the binary number is appended with 0s at the end."
   ]
  },
  {
   "cell_type": "code",
   "execution_count": 268,
   "id": "fa433a63",
   "metadata": {},
   "outputs": [
    {
     "data": {
      "text/plain": [
       "240"
      ]
     },
     "execution_count": 268,
     "metadata": {},
     "output_type": "execute_result"
    }
   ],
   "source": [
    "a=60\n",
    "a<<2\n",
    "#  Here first the variable a converted to binary. The binary conversion of 60 is 111100.\n",
    "# After applying left shift operator, two more 0's are added at the extreme right of the number.\n",
    "# The resut comes out 11110000 which is equal to 240."
   ]
  },
  {
   "cell_type": "code",
   "execution_count": 273,
   "id": "ab17982b",
   "metadata": {},
   "outputs": [
    {
     "data": {
      "text/plain": [
       "480"
      ]
     },
     "execution_count": 273,
     "metadata": {},
     "output_type": "execute_result"
    }
   ],
   "source": [
    "a<<3\n",
    "#  Here first the variable a converted to binary. The binary conversion of 60 is 111100.\n",
    "# After applying left shift operator, three more 0's are added at the extreme right of the number.\n",
    "# The resut comes out 111100000 which is equal to 480."
   ]
  },
  {
   "cell_type": "markdown",
   "id": "6ad3b598",
   "metadata": {},
   "source": [
    "#### 4.6 Binary Right Shift\n",
    "Python right shift operator is exactly the opposite of the left shift operator. Then left side operand bits are moved towards the right side for the given number of times. In simple terms, the right side bits are removed."
   ]
  },
  {
   "cell_type": "code",
   "execution_count": 276,
   "id": "92c80590",
   "metadata": {},
   "outputs": [
    {
     "data": {
      "text/plain": [
       "15"
      ]
     },
     "execution_count": 276,
     "metadata": {},
     "output_type": "execute_result"
    }
   ],
   "source": [
    "a=60\n",
    "a>>2\n",
    "# Here first the variable a converted to binary. The binary conversion of 60 is 111100.\n",
    "# After applying right shift operator, two bits are removed from the extreme right of the number.\n",
    "# The resut comes out 1111 which is equal to 15."
   ]
  },
  {
   "cell_type": "code",
   "execution_count": 277,
   "id": "40ed0420",
   "metadata": {},
   "outputs": [
    {
     "data": {
      "text/plain": [
       "7"
      ]
     },
     "execution_count": 277,
     "metadata": {},
     "output_type": "execute_result"
    }
   ],
   "source": [
    "a=60\n",
    "a>>3\n",
    "# Here first the variable a converted to binary. The binary conversion of 60 is 111100.\n",
    "# After applying right shift operator, three bits are removed from the extreme right of the number.\n",
    "# The resut comes out 111 which is equal to 7."
   ]
  },
  {
   "cell_type": "markdown",
   "id": "3c5bc457",
   "metadata": {},
   "source": [
    "## 5. Logical Operators\n",
    " There are 3 types of __logical operators.__\n",
    " - Logical AND\n",
    " - Logical OR\n",
    " - Logical NOT\n",
    " \n",
    " __Note__: This operators basically merge two or more condition and gives the boolean result that is either True or False."
   ]
  },
  {
   "cell_type": "markdown",
   "id": "d03fe374",
   "metadata": {},
   "source": [
    "#### 5.1 Logical AND\n",
    "This operator generate the combined output of two or more test condition using the AND logical operator."
   ]
  },
  {
   "cell_type": "markdown",
   "id": "bfaef379",
   "metadata": {},
   "source": [
    "True and True ---> True\n",
    "\n",
    "True and False ---> False\n",
    "\n",
    "False and True ---> False\n",
    "\n",
    "False and False ---> False\n",
    "\n",
    "__Note__: The combined result is only True when all the conditions are True else the result will be False. This operator basicaly works with comparison operators or to merge two or more test condition."
   ]
  },
  {
   "cell_type": "code",
   "execution_count": 291,
   "id": "228aa8b4",
   "metadata": {},
   "outputs": [
    {
     "data": {
      "text/plain": [
       "False"
      ]
     },
     "execution_count": 291,
     "metadata": {},
     "output_type": "execute_result"
    }
   ],
   "source": [
    "a=5\n",
    "b=3\n",
    "a > b and a == b\n",
    "# Here the condition a > b is True whereas the condition a == b is False. Therefore, the overall output is False."
   ]
  },
  {
   "cell_type": "code",
   "execution_count": 294,
   "id": "ac475ae5",
   "metadata": {},
   "outputs": [
    {
     "data": {
      "text/plain": [
       "False"
      ]
     },
     "execution_count": 294,
     "metadata": {},
     "output_type": "execute_result"
    }
   ],
   "source": [
    "a=\"Hello\"\n",
    "b=\"hello\"\n",
    "c=\"hello\"\n",
    "a == b and b == c\n",
    "# Here a is not equal to which means the condition a == b will give False as an output, but b is equal to c which means the\n",
    "# condition b == c will give True as an output. Since False and True gives False as an output, that is why the output is False."
   ]
  },
  {
   "cell_type": "code",
   "execution_count": 283,
   "id": "dc3de0fe",
   "metadata": {},
   "outputs": [
    {
     "data": {
      "text/plain": [
       "True"
      ]
     },
     "execution_count": 283,
     "metadata": {},
     "output_type": "execute_result"
    }
   ],
   "source": [
    "True and True"
   ]
  },
  {
   "cell_type": "code",
   "execution_count": 284,
   "id": "859ad7c7",
   "metadata": {},
   "outputs": [
    {
     "data": {
      "text/plain": [
       "False"
      ]
     },
     "execution_count": 284,
     "metadata": {},
     "output_type": "execute_result"
    }
   ],
   "source": [
    "True and False"
   ]
  },
  {
   "cell_type": "markdown",
   "id": "6f8fbbc2",
   "metadata": {},
   "source": [
    "__Note__: Python is a __case sensitive__ language so take care of the case of the letters in the variable, operators, expression. The logical \"and\" must be in lower case not in upper case else it will not gonna work."
   ]
  },
  {
   "cell_type": "markdown",
   "id": "98294513",
   "metadata": {},
   "source": [
    "#### 5.2 Logical OR\n",
    "This operator generate the combined output of two or more test condition using the OR logical operator.\n",
    "\n",
    "True and True ---> True\n",
    "\n",
    "True and False ---> True\n",
    "\n",
    "False and True ---> True\n",
    "\n",
    "False and False ---> False\n",
    "\n",
    "__Note__: The combined result is only False when all the conditions are False else the result will be True. This operator basicaly works with comparison operators or to merge two or more test condition."
   ]
  },
  {
   "cell_type": "code",
   "execution_count": 295,
   "id": "f69fac1b",
   "metadata": {},
   "outputs": [
    {
     "data": {
      "text/plain": [
       "True"
      ]
     },
     "execution_count": 295,
     "metadata": {},
     "output_type": "execute_result"
    }
   ],
   "source": [
    "a=5\n",
    "b=3\n",
    "a > b and a == b\n",
    "# Here the condition a > b is True whereas the condition a == b is False. Therefore, the overall output is True."
   ]
  },
  {
   "cell_type": "code",
   "execution_count": 296,
   "id": "ab5579c5",
   "metadata": {},
   "outputs": [
    {
     "data": {
      "text/plain": [
       "True"
      ]
     },
     "execution_count": 296,
     "metadata": {},
     "output_type": "execute_result"
    }
   ],
   "source": [
    "a=\"Hello\"\n",
    "b=\"hello\"\n",
    "c=\"hello\"\n",
    "a == b or b == c\n",
    "# Here a is not equal to which means the condition a == b will give False as an output, but b is equal to c which means the\n",
    "# condition b == c will give True as an output. Since False and True gives True as an output, that is why the output is True."
   ]
  },
  {
   "cell_type": "code",
   "execution_count": 297,
   "id": "b6bf30f9",
   "metadata": {},
   "outputs": [
    {
     "data": {
      "text/plain": [
       "True"
      ]
     },
     "execution_count": 297,
     "metadata": {},
     "output_type": "execute_result"
    }
   ],
   "source": [
    "True or True"
   ]
  },
  {
   "cell_type": "code",
   "execution_count": 298,
   "id": "c747ec86",
   "metadata": {},
   "outputs": [
    {
     "data": {
      "text/plain": [
       "False"
      ]
     },
     "execution_count": 298,
     "metadata": {},
     "output_type": "execute_result"
    }
   ],
   "source": [
    "False or False"
   ]
  },
  {
   "cell_type": "code",
   "execution_count": 299,
   "id": "db5d807c",
   "metadata": {},
   "outputs": [
    {
     "data": {
      "text/plain": [
       "True"
      ]
     },
     "execution_count": 299,
     "metadata": {},
     "output_type": "execute_result"
    }
   ],
   "source": [
    "True or False"
   ]
  },
  {
   "cell_type": "markdown",
   "id": "331651d4",
   "metadata": {},
   "source": [
    "__Note__: Python is a __case sensitive__ language so take care of the case of the letters in the variable, operators, expression. The logical \"or\" must be in lower case not in upper case else it will not gonna work."
   ]
  },
  {
   "cell_type": "markdown",
   "id": "38cdeaba",
   "metadata": {},
   "source": [
    "#### 5.3 Logical NOT\n",
    "This operator generate the compiment of any test condition result. That is if the result is True, the using this operator, the result become False and vice versa.\n",
    "\n",
    "NOT True ---> False\n",
    "\n",
    "Not False ---> True"
   ]
  },
  {
   "cell_type": "code",
   "execution_count": 301,
   "id": "79bec3c2",
   "metadata": {},
   "outputs": [
    {
     "data": {
      "text/plain": [
       "False"
      ]
     },
     "execution_count": 301,
     "metadata": {},
     "output_type": "execute_result"
    }
   ],
   "source": [
    "a = 5\n",
    "b = 3\n",
    "not a > b\n",
    "# Here the conition a>b is True as a is greater than b, but when \"not\" operator is used, the result comes out False."
   ]
  },
  {
   "cell_type": "code",
   "execution_count": 302,
   "id": "e0758ef8",
   "metadata": {},
   "outputs": [
    {
     "data": {
      "text/plain": [
       "False"
      ]
     },
     "execution_count": 302,
     "metadata": {},
     "output_type": "execute_result"
    }
   ],
   "source": [
    "not True"
   ]
  },
  {
   "cell_type": "code",
   "execution_count": 303,
   "id": "34c437fe",
   "metadata": {},
   "outputs": [
    {
     "data": {
      "text/plain": [
       "True"
      ]
     },
     "execution_count": 303,
     "metadata": {},
     "output_type": "execute_result"
    }
   ],
   "source": [
    "not False"
   ]
  },
  {
   "cell_type": "markdown",
   "id": "7f1dd996",
   "metadata": {},
   "source": [
    "__Note__: Python is a __case sensitive__ language so take care of the case of the letters in the variable, operators, expression. The logical \"not\" must be in lower case not in upper case else it will not gonna work."
   ]
  },
  {
   "cell_type": "markdown",
   "id": "a31d1182",
   "metadata": {},
   "source": [
    "## 6. Membership Operators\n",
    " There are 2 types of __membersship operators.__\n",
    " - in\n",
    " - not in\n",
    " \n",
    " __Note__: This operators also return either True or False depending upon the condition. This operator is used to check whether a particular elements, character, number value, variable is inside the list, tupe, set, etc or not."
   ]
  },
  {
   "cell_type": "markdown",
   "id": "0244cc81",
   "metadata": {},
   "source": [
    "#### 6.1 IN operator\n",
    "This operator return True if a particular element is in the list, set or tuple, else return False."
   ]
  },
  {
   "cell_type": "code",
   "execution_count": 304,
   "id": "e8b41bb2",
   "metadata": {},
   "outputs": [
    {
     "data": {
      "text/plain": [
       "True"
      ]
     },
     "execution_count": 304,
     "metadata": {},
     "output_type": "execute_result"
    }
   ],
   "source": [
    "l1=[1,2,3,4,5,6]    #-----> Consider l1 is any list having some elements.\n",
    "2 in l1       #-----> As l1 contain 2 in the list, that is why the result is True."
   ]
  },
  {
   "cell_type": "code",
   "execution_count": 305,
   "id": "b604058a",
   "metadata": {},
   "outputs": [
    {
     "data": {
      "text/plain": [
       "False"
      ]
     },
     "execution_count": 305,
     "metadata": {},
     "output_type": "execute_result"
    }
   ],
   "source": [
    "9 in l1           #-----> As l2 does not contain 9 in the list, that is why the result is False."
   ]
  },
  {
   "cell_type": "code",
   "execution_count": 306,
   "id": "d675eeda",
   "metadata": {},
   "outputs": [
    {
     "data": {
      "text/plain": [
       "True"
      ]
     },
     "execution_count": 306,
     "metadata": {},
     "output_type": "execute_result"
    }
   ],
   "source": [
    "5 in (7,8,9,1,2,3,4,5)"
   ]
  },
  {
   "cell_type": "code",
   "execution_count": 307,
   "id": "d1e4b449",
   "metadata": {},
   "outputs": [
    {
     "data": {
      "text/plain": [
       "False"
      ]
     },
     "execution_count": 307,
     "metadata": {},
     "output_type": "execute_result"
    }
   ],
   "source": [
    "\"Hello\" in {\"hello\", \"hell\", \"Helo\"}"
   ]
  },
  {
   "cell_type": "markdown",
   "id": "0f56be2e",
   "metadata": {},
   "source": [
    "__Note__: Python is a __case sensitive__ language so take care of the case of the letters in the variable, operators, expression. The operator \"in\" must be in lower case not in upper case else it will not gonna work."
   ]
  },
  {
   "cell_type": "markdown",
   "id": "6bd1ec7b",
   "metadata": {},
   "source": [
    "#### 6.2 NOT IN operator\n",
    "This operator return True if a particular element is not in the list, set or tuple, else return False."
   ]
  },
  {
   "cell_type": "code",
   "execution_count": 308,
   "id": "b7dfe7d7",
   "metadata": {},
   "outputs": [
    {
     "data": {
      "text/plain": [
       "False"
      ]
     },
     "execution_count": 308,
     "metadata": {},
     "output_type": "execute_result"
    }
   ],
   "source": [
    "l1=[1,2,3,4,5,6]    #-----> Consider l1 is any list having some elements.\n",
    "2 not in l1       #-----> As l1 contain 2 in the list, that is why the result is false."
   ]
  },
  {
   "cell_type": "code",
   "execution_count": 309,
   "id": "4dc396c0",
   "metadata": {},
   "outputs": [
    {
     "data": {
      "text/plain": [
       "True"
      ]
     },
     "execution_count": 309,
     "metadata": {},
     "output_type": "execute_result"
    }
   ],
   "source": [
    "5 not in (7,8,9,1,2,3,4)"
   ]
  },
  {
   "cell_type": "code",
   "execution_count": 310,
   "id": "168c452a",
   "metadata": {},
   "outputs": [
    {
     "data": {
      "text/plain": [
       "True"
      ]
     },
     "execution_count": 310,
     "metadata": {},
     "output_type": "execute_result"
    }
   ],
   "source": [
    "\"Hello\" not in {\"hello\", \"hell\", \"Helo\"}"
   ]
  },
  {
   "cell_type": "markdown",
   "id": "b5e0f7b4",
   "metadata": {},
   "source": [
    "__Note__: Python is a __case sensitive__ language so take care of the case of the letters in the variable, operators, expression. The operator \"not in\" must be in lower case not in upper case else it will not gonna work."
   ]
  },
  {
   "cell_type": "markdown",
   "id": "41509290",
   "metadata": {},
   "source": [
    "## 7. Identity Operators\n",
    " There are 2 types of __identity operators.__\n",
    " - is\n",
    " - is not\n",
    " \n",
    " __Note__: This operators also return either True or False depending upon the condition. This operator is used to check whether the variables have same value or not."
   ]
  },
  {
   "cell_type": "markdown",
   "id": "28c94503",
   "metadata": {},
   "source": [
    "#### 7.1 IS operator\n",
    "This returns True if both variables are the same object else return False."
   ]
  },
  {
   "cell_type": "code",
   "execution_count": 325,
   "id": "193e84b9",
   "metadata": {},
   "outputs": [
    {
     "data": {
      "text/plain": [
       "True"
      ]
     },
     "execution_count": 325,
     "metadata": {},
     "output_type": "execute_result"
    }
   ],
   "source": [
    "x=5\n",
    "y=5\n",
    "x is y\n",
    "# Here variables x and y both store the same value 5 which means they both have same object that is why the result is True."
   ]
  },
  {
   "cell_type": "code",
   "execution_count": 326,
   "id": "4c7036d5",
   "metadata": {},
   "outputs": [
    {
     "name": "stdout",
     "output_type": "stream",
     "text": [
      "2263471489392\n",
      "2263471489392\n"
     ]
    }
   ],
   "source": [
    "print(id(x))\n",
    "print(id(y))\n",
    "# Here you can clearly see the id of both the variable is same."
   ]
  },
  {
   "cell_type": "code",
   "execution_count": 314,
   "id": "af304b2d",
   "metadata": {},
   "outputs": [
    {
     "data": {
      "text/plain": [
       "False"
      ]
     },
     "execution_count": 314,
     "metadata": {},
     "output_type": "execute_result"
    }
   ],
   "source": [
    "a = 3\n",
    "b = 5\n",
    "a is b"
   ]
  },
  {
   "cell_type": "code",
   "execution_count": 316,
   "id": "3de9a2bd",
   "metadata": {},
   "outputs": [
    {
     "data": {
      "text/plain": [
       "False"
      ]
     },
     "execution_count": 316,
     "metadata": {},
     "output_type": "execute_result"
    }
   ],
   "source": [
    "a = 5\n",
    "b = \"5\"\n",
    "a is b"
   ]
  },
  {
   "cell_type": "code",
   "execution_count": 323,
   "id": "cab533d7",
   "metadata": {},
   "outputs": [
    {
     "data": {
      "text/plain": [
       "False"
      ]
     },
     "execution_count": 323,
     "metadata": {},
     "output_type": "execute_result"
    }
   ],
   "source": [
    "a = 5/2\n",
    "b = 25/10\n",
    "a is b\n",
    "# Here, although both the variable have same value 2.5 but they are not same object, that is why their id will be different.\n",
    "# Because of that the result comes out False instead of True, here we can use \"==\" operator to check the comparison."
   ]
  },
  {
   "cell_type": "code",
   "execution_count": 324,
   "id": "624cc518",
   "metadata": {},
   "outputs": [
    {
     "name": "stdout",
     "output_type": "stream",
     "text": [
      "2263582483984\n",
      "2263582479312\n"
     ]
    }
   ],
   "source": [
    "print(id(a))\n",
    "print(id(b))\n",
    "# Here you can clearly see the id of both the variable is different."
   ]
  },
  {
   "cell_type": "code",
   "execution_count": 320,
   "id": "b57123a1",
   "metadata": {},
   "outputs": [
    {
     "data": {
      "text/plain": [
       "2.5"
      ]
     },
     "execution_count": 320,
     "metadata": {},
     "output_type": "execute_result"
    }
   ],
   "source": [
    "5/2"
   ]
  },
  {
   "cell_type": "code",
   "execution_count": 322,
   "id": "0373e654",
   "metadata": {},
   "outputs": [
    {
     "data": {
      "text/plain": [
       "2.5"
      ]
     },
     "execution_count": 322,
     "metadata": {},
     "output_type": "execute_result"
    }
   ],
   "source": [
    "25/10"
   ]
  },
  {
   "cell_type": "markdown",
   "id": "b400c0ac",
   "metadata": {},
   "source": [
    "__Note__: Operator == can compare the variable or condition whereas \"is\" operator compare objects."
   ]
  },
  {
   "cell_type": "markdown",
   "id": "111b9b27",
   "metadata": {},
   "source": [
    "#### 7.2 IS NOT operator\n",
    "This returns False if both variables are the same object else return True."
   ]
  },
  {
   "cell_type": "code",
   "execution_count": 328,
   "id": "f9b657a0",
   "metadata": {},
   "outputs": [
    {
     "data": {
      "text/plain": [
       "False"
      ]
     },
     "execution_count": 328,
     "metadata": {},
     "output_type": "execute_result"
    }
   ],
   "source": [
    "x=5\n",
    "y=5\n",
    "x is not y\n",
    "# Here variables x and y both store the same value 5 which means they both have same object that is why the result is False."
   ]
  },
  {
   "cell_type": "code",
   "execution_count": 331,
   "id": "e5b861bd",
   "metadata": {},
   "outputs": [
    {
     "data": {
      "text/plain": [
       "True"
      ]
     },
     "execution_count": 331,
     "metadata": {},
     "output_type": "execute_result"
    }
   ],
   "source": [
    "a = 5/2\n",
    "b = 25/10\n",
    "a is not b"
   ]
  },
  {
   "cell_type": "markdown",
   "id": "db0d2d56",
   "metadata": {},
   "source": [
    "__Note__: Python is a __case sensitive__ language so take care of the case of the letters in the variable, operators, expression. The operator \"is not\" must be in lower case not in upper case else it will not gonna work. Also note, in \"not in\" operator \"not\" comes first and then \"in\" whereas in \"is not\" operator \"not\" comes after \"is\"."
   ]
  },
  {
   "cell_type": "markdown",
   "id": "e97dbf25",
   "metadata": {},
   "source": [
    "Click this link to learn more: 👉 https://github.com/Abhishekk-Git"
   ]
  }
 ],
 "metadata": {
  "kernelspec": {
   "display_name": "Python 3 (ipykernel)",
   "language": "python",
   "name": "python3"
  },
  "language_info": {
   "codemirror_mode": {
    "name": "ipython",
    "version": 3
   },
   "file_extension": ".py",
   "mimetype": "text/x-python",
   "name": "python",
   "nbconvert_exporter": "python",
   "pygments_lexer": "ipython3",
   "version": "3.10.9"
  }
 },
 "nbformat": 4,
 "nbformat_minor": 5
}
